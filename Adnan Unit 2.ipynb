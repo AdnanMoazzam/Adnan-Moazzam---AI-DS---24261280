{
 "cells": [
  {
   "cell_type": "code",
   "execution_count": null,
   "id": "8176993f-5c41-48c3-bf79-02ccc6d6faa6",
   "metadata": {},
   "outputs": [],
   "source": [
    "Write a python program to print all even numbers from 1-100"
   ]
  },
  {
   "cell_type": "code",
   "execution_count": null,
   "id": "3265b699-26d2-4257-b9a9-7308f8f49a27",
   "metadata": {},
   "outputs": [],
   "source": [
    "for num in range(1, 101):\n",
    "    if num % 2 == 0:\n",
    "        print(num)"
   ]
  },
  {
   "cell_type": "code",
   "execution_count": null,
   "id": "e13c399a-0b5f-4a3f-a36c-81ee2d9c86cc",
   "metadata": {},
   "outputs": [],
   "source": [
    "Write a python program to print a table of any number given by the user"
   ]
  },
  {
   "cell_type": "code",
   "execution_count": null,
   "id": "a0e7de2f-e5e3-4d45-9af6-8963697c5755",
   "metadata": {},
   "outputs": [],
   "source": [
    "num = int(input(\"Enter a number to print its multiplication table: \"))\n",
    "\n",
    "for i in range(1, 11):\n",
    "    print(f\"{num} x {i} = {num * i}\")"
   ]
  },
  {
   "cell_type": "code",
   "execution_count": null,
   "id": "b38b3282-e6a4-4d47-aac7-73fd59afc0d1",
   "metadata": {},
   "outputs": [],
   "source": [
    "Write a python program to input a number to check whether it is palindrome or not "
   ]
  },
  {
   "cell_type": "code",
   "execution_count": null,
   "id": "a3efc69d-eece-494a-a62b-2bf8635a3dd0",
   "metadata": {},
   "outputs": [],
   "source": [
    "num = input(\"Enter a number: \")\n",
    "\n",
    "if num == num[::-1]:\n",
    "    print(f\"{num} is a palindrome\")\n",
    "else:\n",
    "    print(f\"{num} is not a palindrome\")"
   ]
  },
  {
   "cell_type": "code",
   "execution_count": null,
   "id": "1f62ad4f-7d6a-495d-8b4d-de2fcd24400e",
   "metadata": {},
   "outputs": [],
   "source": [
    "Write a python program to input the length of a series or list and create a list dynamically and hence search from the list using linear search "
   ]
  },
  {
   "cell_type": "code",
   "execution_count": null,
   "id": "6e801b7a-10e9-4eb6-b00a-00be51d70458",
   "metadata": {},
   "outputs": [],
   "source": [
    "length = int(input(\"Enter the length of the list: \"))\n",
    "\n",
    "my_list = []\n",
    "for _ in range(length):\n",
    "    my_list.append(int(input(\"Enter an element: \")))\n",
    "\n",
    "target = int(input(\"Enter the number to search for: \"))\n",
    "\n",
    "found = False\n",
    "for i in range(length):\n",
    "    if my_list[i] == target:\n",
    "        found = True\n",
    "        print(f\"{target} found at index {i}\")\n",
    "        break\n",
    "\n",
    "if not found:\n",
    "    print(f\"{target} not found in the list\")"
   ]
  },
  {
   "cell_type": "code",
   "execution_count": null,
   "id": "c3cf7781-7ae2-4bbb-82a9-0ac661224571",
   "metadata": {},
   "outputs": [],
   "source": [
    "Write a python program to create a dictionary for every students data, may include the name the roll no and the course ID. Hence create an input for the roll no and output the course ID "
   ]
  },
  {
   "cell_type": "code",
   "execution_count": null,
   "id": "6c451d2c-6b0d-4541-8c49-c0857aa1ba6c",
   "metadata": {},
   "outputs": [],
   "source": [
    "students = {}\n",
    "\n",
    "num_students = int(input(\"Enter the number of students: \"))\n",
    "\n",
    "for _ in range(num_students):\n",
    "    name = input(\"Enter student's name: \")\n",
    "    roll_no = input(\"Enter roll number: \")\n",
    "    course_id = input(\"Enter course ID: \")\n",
    "    students[roll_no] = {'name': name, 'course_id': course_id}\n",
    "\n",
    "roll_no_to_search = input(\"Enter the roll number to search for: \")\n",
    "\n",
    "if roll_no_to_search in students:\n",
    "    print(f\"Course ID for roll number {roll_no_to_search}: {students[roll_no_to_search]['course_id']}\")\n",
    "else:\n",
    "    print(\"Student with this roll number not found.\")"
   ]
  },
  {
   "cell_type": "code",
   "execution_count": null,
   "id": "62147667-6c76-4934-85e4-06bee9c3e297",
   "metadata": {},
   "outputs": [],
   "source": [
    "Write a python program that dispays a menu with items price, let the use of select items to add in their order and show the total bill when they finish"
   ]
  },
  {
   "cell_type": "code",
   "execution_count": null,
   "id": "614f1a8d-86fa-4271-807d-32984d7e4ec2",
   "metadata": {},
   "outputs": [],
   "source": [
    "menu = {\n",
    "    \"Burger\": 100,\n",
    "    \"Pizza\": 250,\n",
    "    \"Pasta\": 150,\n",
    "    \"Coke\": 50,\n",
    "    \"Fries\": 80\n",
    "}\n",
    "\n",
    "print(\"Menu:\")\n",
    "for item, price in menu.items():\n",
    "    print(f\"{item}: ₹{price}\")\n",
    "\n",
    "total_bill = 0\n",
    "\n",
    "while True:\n",
    "    selected_item = input(\"\\nEnter the item you want to order (or type 'done' to finish): \").capitalize()\n",
    "\n",
    "    if selected_item == 'Done':\n",
    "        break\n",
    "    elif selected_item in menu:\n",
    "        total_bill += menu[selected_item]\n",
    "        print(f\"{selected_item} added to your order. Current total: ₹{total_bill}\")\n",
    "    else:\n",
    "        print(\"Invalid item. Please choose from the menu.\")\n",
    "\n",
    "print(f\"\\nYour total bill is: ₹{total_bill}\")"
   ]
  },
  {
   "cell_type": "code",
   "execution_count": null,
   "id": "fe5c7cdc-e359-4468-85e8-922d53f16153",
   "metadata": {},
   "outputs": [],
   "source": [
    "Create a python program to print stars of 5 rows with the same numericals and then from 1-5 sequence stars\n"
   ]
  },
  {
   "cell_type": "code",
   "execution_count": null,
   "id": "de5216a4-2369-4106-87c6-a171996154df",
   "metadata": {},
   "outputs": [],
   "source": [
    "for i in range(5):\n",
    "    print(\"*\" * 5)\n",
    "\n",
    "print()\n",
    "\n",
    "for i in range(1, 6):\n",
    "    print(\"*\" * i)"
   ]
  },
  {
   "cell_type": "code",
   "execution_count": null,
   "id": "c419f6e2-def0-4ebe-91c0-c242c51eb1c7",
   "metadata": {},
   "outputs": [],
   "source": [
    "Write a python program to swap two numbers using third variable , without using the thrird variable, without a line "
   ]
  },
  {
   "cell_type": "code",
   "execution_count": null,
   "id": "b2ca8be1-eccc-4245-a257-90367d300e4e",
   "metadata": {},
   "outputs": [],
   "source": [
    "#With using a third variable\n",
    "\n",
    "a = 5\n",
    "b = 10\n",
    "temp = a\n",
    "a = b\n",
    "b = temp\n",
    "print(f\"a: {a}, b: {b}\")"
   ]
  },
  {
   "cell_type": "code",
   "execution_count": null,
   "id": "208a6f2f-41bb-46c4-b2e9-2b3bf116b870",
   "metadata": {},
   "outputs": [],
   "source": [
    "#Without using a third variable\n",
    "\n",
    "a = 5\n",
    "b = 10\n",
    "a, b = b, a\n",
    "print(f\"a: {a}, b: {b}\")\n"
   ]
  }
 ],
 "metadata": {
  "kernelspec": {
   "display_name": "Python 3 (ipykernel)",
   "language": "python",
   "name": "python3"
  },
  "language_info": {
   "codemirror_mode": {
    "name": "ipython",
    "version": 3
   },
   "file_extension": ".py",
   "mimetype": "text/x-python",
   "name": "python",
   "nbconvert_exporter": "python",
   "pygments_lexer": "ipython3",
   "version": "3.12.4"
  }
 },
 "nbformat": 4,
 "nbformat_minor": 5
}
