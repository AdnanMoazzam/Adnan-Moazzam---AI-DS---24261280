{
 "cells": [
  {
   "cell_type": "code",
   "execution_count": null,
   "id": "ccdb9928-c7ce-49f6-9483-e16d9f31f3ab",
   "metadata": {},
   "outputs": [],
   "source": [
    "                                                                Unit 1\n",
    "\n",
    "Write a python program to print hellow world "
   ]
  },
  {
   "cell_type": "code",
   "execution_count": 2,
   "id": "ad99eaec-2721-44bf-a5ce-c7bc6e075fea",
   "metadata": {},
   "outputs": [
    {
     "name": "stdout",
     "output_type": "stream",
     "text": [
      "Hello, World!\n"
     ]
    }
   ],
   "source": [
    "print(\"Hello, World!\")"
   ]
  },
  {
   "cell_type": "code",
   "execution_count": null,
   "id": "49e241d7-af56-4ea2-b200-444606231c52",
   "metadata": {},
   "outputs": [],
   "source": [
    "Write a python program to input two numbers and perform all basic operations"
   ]
  },
  {
   "cell_type": "code",
   "execution_count": 4,
   "id": "587f26a8-224a-4bf0-8cc1-4dc5282855c7",
   "metadata": {},
   "outputs": [
    {
     "name": "stdin",
     "output_type": "stream",
     "text": [
      "Enter the first number:  15\n",
      "Enter the second number:  58\n"
     ]
    },
    {
     "name": "stdout",
     "output_type": "stream",
     "text": [
      "Addition: 15.0 + 58.0 = 73.0\n",
      "Subtraction: 15.0 - 58.0 = -43.0\n",
      "Multiplication: 15.0 * 58.0 = 870.0\n",
      "Division: 15.0 / 58.0 = 0.25862068965517243\n"
     ]
    }
   ],
   "source": [
    "num1 = float(input(\"Enter the first number: \"))\n",
    "num2 = float(input(\"Enter the second number: \"))\n",
    "\n",
    "addition = num1 + num2\n",
    "subtraction = num1 - num2\n",
    "multiplication = num1 * num2\n",
    "if num2 != 0:\n",
    "    division = num1 / num2\n",
    "else:\n",
    "    division = \"Undefined (cannot divide by zero)\"\n",
    "\n",
    "print(f\"Addition: {num1} + {num2} = {addition}\")\n",
    "print(f\"Subtraction: {num1} - {num2} = {subtraction}\")\n",
    "print(f\"Multiplication: {num1} * {num2} = {multiplication}\")\n",
    "print(f\"Division: {num1} / {num2} = {division}\")"
   ]
  },
  {
   "cell_type": "code",
   "execution_count": null,
   "id": "05a1f618-5be1-43b5-8199-f960a3704f20",
   "metadata": {},
   "outputs": [],
   "source": [
    "Write a python program to check whether a number is even or odd"
   ]
  },
  {
   "cell_type": "code",
   "execution_count": 6,
   "id": "43d4ae57-fc9d-48c4-abbc-2fb59062d774",
   "metadata": {},
   "outputs": [
    {
     "name": "stdin",
     "output_type": "stream",
     "text": [
      "Enter a number:  5\n"
     ]
    },
    {
     "name": "stdout",
     "output_type": "stream",
     "text": [
      "5 is odd\n"
     ]
    }
   ],
   "source": [
    "num = int(input(\"Enter a number: \"))\n",
    "\n",
    "if num % 2 == 0:\n",
    "    print(f\"{num} is even\")\n",
    "else:\n",
    "    print(f\"{num} is odd\")"
   ]
  },
  {
   "cell_type": "code",
   "execution_count": null,
   "id": "04bed7fd-eaf1-45e8-b460-b1fba5c8e063",
   "metadata": {},
   "outputs": [],
   "source": [
    "Write a python program to check whether a number is divisible by 3 or not, if the number is divisble by 3 also check if it's divisible by 5"
   ]
  },
  {
   "cell_type": "code",
   "execution_count": 8,
   "id": "3789bd50-1498-47e5-9ead-7ab7eadf6ae1",
   "metadata": {},
   "outputs": [
    {
     "name": "stdin",
     "output_type": "stream",
     "text": [
      "Enter a number:  89\n"
     ]
    },
    {
     "name": "stdout",
     "output_type": "stream",
     "text": [
      "89 is not divisible by 3\n"
     ]
    }
   ],
   "source": [
    "num = int(input(\"Enter a number: \"))\n",
    "\n",
    "if num % 3 == 0:\n",
    "    print(f\"{num} is divisible by 3\")\n",
    "    if num % 5 == 0:\n",
    "        print(f\"{num} is also divisible by 5\")\n",
    "else:\n",
    "    print(f\"{num} is not divisible by 3\")"
   ]
  },
  {
   "cell_type": "code",
   "execution_count": null,
   "id": "18137d4b-a0ea-4981-bb94-ad92a1b17ce4",
   "metadata": {},
   "outputs": [],
   "source": [
    "Create a basic ATM program that allows users to check their balance, deposit money and withdraw money ensuring that they don't withdraw more than they have "
   ]
  },
  {
   "cell_type": "code",
   "execution_count": 10,
   "id": "cc703255-d7b6-4101-babc-cfe528b01699",
   "metadata": {},
   "outputs": [
    {
     "name": "stdout",
     "output_type": "stream",
     "text": [
      "\n",
      "ATM Menu:\n",
      "1. Check Balance\n",
      "2. Deposit Money\n",
      "3. Withdraw Money\n",
      "4. Exit\n"
     ]
    },
    {
     "name": "stdin",
     "output_type": "stream",
     "text": [
      "Choose an option:  1\n"
     ]
    },
    {
     "name": "stdout",
     "output_type": "stream",
     "text": [
      "Your current balance is: $1000\n",
      "\n",
      "ATM Menu:\n",
      "1. Check Balance\n",
      "2. Deposit Money\n",
      "3. Withdraw Money\n",
      "4. Exit\n"
     ]
    },
    {
     "name": "stdin",
     "output_type": "stream",
     "text": [
      "Choose an option:  2\n",
      "Enter amount to deposit:  500\n"
     ]
    },
    {
     "name": "stdout",
     "output_type": "stream",
     "text": [
      "Deposited $500.0. Your new balance is: $1500.0\n",
      "\n",
      "ATM Menu:\n",
      "1. Check Balance\n",
      "2. Deposit Money\n",
      "3. Withdraw Money\n",
      "4. Exit\n"
     ]
    },
    {
     "name": "stdin",
     "output_type": "stream",
     "text": [
      "Choose an option:  3\n",
      "Enter amount to withdraw:  5000\n"
     ]
    },
    {
     "name": "stdout",
     "output_type": "stream",
     "text": [
      "Insufficient funds! You cannot withdraw more than your balance.\n",
      "\n",
      "ATM Menu:\n",
      "1. Check Balance\n",
      "2. Deposit Money\n",
      "3. Withdraw Money\n",
      "4. Exit\n"
     ]
    },
    {
     "name": "stdin",
     "output_type": "stream",
     "text": [
      "Choose an option:  500\n"
     ]
    },
    {
     "name": "stdout",
     "output_type": "stream",
     "text": [
      "Invalid choice! Please select a valid option.\n",
      "\n",
      "ATM Menu:\n",
      "1. Check Balance\n",
      "2. Deposit Money\n",
      "3. Withdraw Money\n",
      "4. Exit\n"
     ]
    },
    {
     "name": "stdin",
     "output_type": "stream",
     "text": [
      "Choose an option:  3\n",
      "Enter amount to withdraw:  500\n"
     ]
    },
    {
     "name": "stdout",
     "output_type": "stream",
     "text": [
      "Withdrew $500.0. Your new balance is: $1000.0\n",
      "\n",
      "ATM Menu:\n",
      "1. Check Balance\n",
      "2. Deposit Money\n",
      "3. Withdraw Money\n",
      "4. Exit\n"
     ]
    },
    {
     "name": "stdin",
     "output_type": "stream",
     "text": [
      "Choose an option:  4\n"
     ]
    },
    {
     "name": "stdout",
     "output_type": "stream",
     "text": [
      "Thank you for using the ATM!\n"
     ]
    }
   ],
   "source": [
    "balance = 1000\n",
    "\n",
    "while True:\n",
    "    print(\"\\nATM Menu:\")\n",
    "    print(\"1. Check Balance\")\n",
    "    print(\"2. Deposit Money\")\n",
    "    print(\"3. Withdraw Money\")\n",
    "    print(\"4. Exit\")\n",
    "\n",
    "    choice = int(input(\"Choose an option: \"))\n",
    "\n",
    "    if choice == 1:\n",
    "        print(f\"Your current balance is: ${balance}\")\n",
    "\n",
    "    elif choice == 2:\n",
    "        deposit = float(input(\"Enter amount to deposit: \"))\n",
    "        balance += deposit\n",
    "        print(f\"Deposited ${deposit}. Your new balance is: ${balance}\")\n",
    "\n",
    "    elif choice == 3:\n",
    "        withdraw = float(input(\"Enter amount to withdraw: \"))\n",
    "        if withdraw > balance:\n",
    "            print(\"Insufficient funds! You cannot withdraw more than your balance.\")\n",
    "        else:\n",
    "            balance -= withdraw\n",
    "            print(f\"Withdrew ${withdraw}. Your new balance is: ${balance}\")\n",
    "\n",
    "    elif choice == 4:\n",
    "        print(\"Thank you for using the ATM!\")\n",
    "        break\n",
    "\n",
    "    else:\n",
    "        print(\"Invalid choice! Please select a valid option.\")"
   ]
  },
  {
   "cell_type": "code",
   "execution_count": null,
   "id": "654ea746-a5a8-44e9-8d5d-c74362617746",
   "metadata": {},
   "outputs": [],
   "source": [
    "Write a python program to print all even numbers from 1-100"
   ]
  },
  {
   "cell_type": "code",
   "execution_count": 12,
   "id": "3b51e61f-6183-499b-9b87-f8da80a022b0",
   "metadata": {},
   "outputs": [
    {
     "name": "stdout",
     "output_type": "stream",
     "text": [
      "2\n",
      "4\n",
      "6\n",
      "8\n",
      "10\n",
      "12\n",
      "14\n",
      "16\n",
      "18\n",
      "20\n",
      "22\n",
      "24\n",
      "26\n",
      "28\n",
      "30\n",
      "32\n",
      "34\n",
      "36\n",
      "38\n",
      "40\n",
      "42\n",
      "44\n",
      "46\n",
      "48\n",
      "50\n",
      "52\n",
      "54\n",
      "56\n",
      "58\n",
      "60\n",
      "62\n",
      "64\n",
      "66\n",
      "68\n",
      "70\n",
      "72\n",
      "74\n",
      "76\n",
      "78\n",
      "80\n",
      "82\n",
      "84\n",
      "86\n",
      "88\n",
      "90\n",
      "92\n",
      "94\n",
      "96\n",
      "98\n",
      "100\n"
     ]
    }
   ],
   "source": [
    "for num in range(1, 101):\n",
    "    if num % 2 == 0:\n",
    "        print(num)"
   ]
  },
  {
   "cell_type": "code",
   "execution_count": null,
   "id": "4855e827-740f-44b0-8c4a-54242aed1b91",
   "metadata": {},
   "outputs": [],
   "source": [
    "Write a python program to print a table of any number given by the user"
   ]
  },
  {
   "cell_type": "code",
   "execution_count": 14,
   "id": "85d656be-dc00-4617-8108-13f5ec343c34",
   "metadata": {},
   "outputs": [
    {
     "name": "stdin",
     "output_type": "stream",
     "text": [
      "Enter a number to print its multiplication table:  81\n"
     ]
    },
    {
     "name": "stdout",
     "output_type": "stream",
     "text": [
      "81 x 1 = 81\n",
      "81 x 2 = 162\n",
      "81 x 3 = 243\n",
      "81 x 4 = 324\n",
      "81 x 5 = 405\n",
      "81 x 6 = 486\n",
      "81 x 7 = 567\n",
      "81 x 8 = 648\n",
      "81 x 9 = 729\n",
      "81 x 10 = 810\n"
     ]
    }
   ],
   "source": [
    "num = int(input(\"Enter a number to print its multiplication table: \"))\n",
    "\n",
    "for i in range(1, 11):\n",
    "    print(f\"{num} x {i} = {num * i}\")"
   ]
  },
  {
   "cell_type": "code",
   "execution_count": null,
   "id": "43947725-ffa1-47db-bb21-26c37716c938",
   "metadata": {},
   "outputs": [],
   "source": [
    "Write a python program to input a number to check whether it is palindrome or not "
   ]
  },
  {
   "cell_type": "code",
   "execution_count": 16,
   "id": "86da4785-273f-4753-81f1-1c29dab016bb",
   "metadata": {},
   "outputs": [
    {
     "name": "stdin",
     "output_type": "stream",
     "text": [
      "Enter a number:  56\n"
     ]
    },
    {
     "name": "stdout",
     "output_type": "stream",
     "text": [
      "56 is not a palindrome\n"
     ]
    }
   ],
   "source": [
    "num = input(\"Enter a number: \")\n",
    "\n",
    "if num == num[::-1]:\n",
    "    print(f\"{num} is a palindrome\")\n",
    "else:\n",
    "    print(f\"{num} is not a palindrome\")"
   ]
  },
  {
   "cell_type": "code",
   "execution_count": null,
   "id": "92b41db2-4fd2-457f-a342-38bd6eabdb27",
   "metadata": {},
   "outputs": [],
   "source": [
    "Write a python program to input the length of a series or list and create a list dynamically and hence search from the list using linear search "
   ]
  },
  {
   "cell_type": "code",
   "execution_count": 18,
   "id": "89743782-00a4-45a0-b015-66dfdeb57afe",
   "metadata": {},
   "outputs": [
    {
     "name": "stdin",
     "output_type": "stream",
     "text": [
      "Enter the length of the list:  5\n",
      "Enter an element:  5\n",
      "Enter an element:  6\n",
      "Enter an element:  8\n",
      "Enter an element:  9\n",
      "Enter an element:  5\n",
      "Enter the number to search for:  5\n"
     ]
    },
    {
     "name": "stdout",
     "output_type": "stream",
     "text": [
      "5 found at index 0\n"
     ]
    }
   ],
   "source": [
    "length = int(input(\"Enter the length of the list: \"))\n",
    "\n",
    "my_list = []\n",
    "for _ in range(length):\n",
    "    my_list.append(int(input(\"Enter an element: \")))\n",
    "\n",
    "target = int(input(\"Enter the number to search for: \"))\n",
    "\n",
    "found = False\n",
    "for i in range(length):\n",
    "    if my_list[i] == target:\n",
    "        found = True\n",
    "        print(f\"{target} found at index {i}\")\n",
    "        break\n",
    "\n",
    "if not found:\n",
    "    print(f\"{target} not found in the list\")"
   ]
  },
  {
   "cell_type": "code",
   "execution_count": null,
   "id": "4691e603-52b9-4992-8127-bc3e7da91490",
   "metadata": {},
   "outputs": [],
   "source": [
    "Write a python program to create a dictionary for every students data, may include the name the roll no and the course ID. Hence create an input for the roll no and output the course ID "
   ]
  },
  {
   "cell_type": "code",
   "execution_count": null,
   "id": "0521bcc2-45d9-4370-9448-99c6af76591c",
   "metadata": {},
   "outputs": [],
   "source": [
    "students = {}\n",
    "\n",
    "num_students = int(input(\"Enter the number of students: \"))\n",
    "\n",
    "for _ in range(num_students):\n",
    "    name = input(\"Enter student's name: \")\n",
    "    roll_no = input(\"Enter roll number: \")\n",
    "    course_id = input(\"Enter course ID: \")\n",
    "    students[roll_no] = {'name': name, 'course_id': course_id}\n",
    "\n",
    "roll_no_to_search = input(\"Enter the roll number to search for: \")\n",
    "\n",
    "if roll_no_to_search in students:\n",
    "    print(f\"Course ID for roll number {roll_no_to_search}: {students[roll_no_to_search]['course_id']}\")\n",
    "else:\n",
    "    print(\"Student with this roll number not found.\")"
   ]
  },
  {
   "cell_type": "code",
   "execution_count": null,
   "id": "cc9a1fb1-a8ae-494a-a4a9-17d8ca5c2376",
   "metadata": {},
   "outputs": [],
   "source": [
    "Write a python program that dispays a menu with items price, let the use of select items to add in their order and show the total bill when they finish"
   ]
  },
  {
   "cell_type": "code",
   "execution_count": null,
   "id": "22a4d246-974d-46eb-99b9-c18b77059056",
   "metadata": {},
   "outputs": [],
   "source": [
    "menu = {\n",
    "    \"Burger\": 100,\n",
    "    \"Pizza\": 250,\n",
    "    \"Pasta\": 150,\n",
    "    \"Coke\": 50,\n",
    "    \"Fries\": 80\n",
    "}\n",
    "\n",
    "print(\"Menu:\")\n",
    "for item, price in menu.items():\n",
    "    print(f\"{item}: ₹{price}\")\n",
    "\n",
    "total_bill = 0\n",
    "\n",
    "while True:\n",
    "    selected_item = input(\"\\nEnter the item you want to order (or type 'done' to finish): \").capitalize()\n",
    "\n",
    "    if selected_item == 'Done':\n",
    "        break\n",
    "    elif selected_item in menu:\n",
    "        total_bill += menu[selected_item]\n",
    "        print(f\"{selected_item} added to your order. Current total: ₹{total_bill}\")\n",
    "    else:\n",
    "        print(\"Invalid item. Please choose from the menu.\")\n",
    "\n",
    "print(f\"\\nYour total bill is: ₹{total_bill}\")"
   ]
  },
  {
   "cell_type": "code",
   "execution_count": null,
   "id": "a8144ff5-3f41-47e3-a4f7-a795c8b14375",
   "metadata": {},
   "outputs": [],
   "source": [
    "Create a python program to print stars of 5 rows with the same numericals and then from 1-5 sequence stars\n"
   ]
  },
  {
   "cell_type": "code",
   "execution_count": null,
   "id": "d51b6305-9dcb-435a-8ba7-dc48bc7737fd",
   "metadata": {},
   "outputs": [],
   "source": [
    "for i in range(5):\n",
    "    print(\"*\" * 5)\n",
    "\n",
    "print()\n",
    "\n",
    "for i in range(1, 6):\n",
    "    print(\"*\" * i)"
   ]
  },
  {
   "cell_type": "code",
   "execution_count": null,
   "id": "ec025304-a76f-4c6b-b64b-d0857a81b7cc",
   "metadata": {},
   "outputs": [],
   "source": [
    "Write a python program to swap two numbers using third variable , without using the thrird variable, without a line \n"
   ]
  },
  {
   "cell_type": "code",
   "execution_count": null,
   "id": "df6674ee-8695-4d58-a0e0-cd26870b0d21",
   "metadata": {},
   "outputs": [],
   "source": [
    "#With using a third variable\n",
    "\n",
    "a = 5\n",
    "b = 10\n",
    "temp = a\n",
    "a = b\n",
    "b = temp\n",
    "print(f\"a: {a}, b: {b}\")\n"
   ]
  },
  {
   "cell_type": "code",
   "execution_count": null,
   "id": "b394fce4-86ef-43b5-941d-5ffa6aa870db",
   "metadata": {},
   "outputs": [],
   "source": [
    "#Without using a third variable\n",
    "\n",
    "a = 5\n",
    "b = 10\n",
    "a, b = b, a\n",
    "print(f\"a: {a}, b: {b}\")\n"
   ]
  },
  {
   "cell_type": "code",
   "execution_count": null,
   "id": "6f49460b-836f-4802-9bd7-283998e4bf8d",
   "metadata": {},
   "outputs": [],
   "source": [
    "                                                                        Unit 2 "
   ]
  },
  {
   "cell_type": "code",
   "execution_count": null,
   "id": "98150d17-f3b1-4f0d-bdd5-88c2f5ff1cc6",
   "metadata": {},
   "outputs": [],
   "source": [
    "Write a python program to create a function to check even and odd"
   ]
  },
  {
   "cell_type": "code",
   "execution_count": null,
   "id": "7212a52a-2864-4005-b20a-266845d2d123",
   "metadata": {},
   "outputs": [],
   "source": [
    "def check_even_odd(num):\n",
    "    if num % 2 == 0:\n",
    "        print(f\"{num} is even\")\n",
    "    else:\n",
    "        print(f\"{num} is odd\")\n",
    "\n",
    "# Example usage\n",
    "number = int(input(\"Enter a number: \"))\n",
    "check_even_odd(number)"
   ]
  },
  {
   "cell_type": "code",
   "execution_count": null,
   "id": "31715f31-b2d7-4dc8-9cca-4d1becb47b12",
   "metadata": {},
   "outputs": [],
   "source": [
    "Write a python program to create a function that outputs factorial of a number "
   ]
  },
  {
   "cell_type": "code",
   "execution_count": null,
   "id": "489f62f7-4176-4fd5-a80b-d42d0f688a55",
   "metadata": {},
   "outputs": [],
   "source": [
    "def factorial(num):\n",
    "    result = 1\n",
    "    for i in range(1, num + 1):\n",
    "        result *= i\n",
    "    return result\n",
    "\n",
    "# Example usage\n",
    "number = int(input(\"Enter a number: \"))\n",
    "print(f\"Factorial of {number} is {factorial(number)}\")"
   ]
  },
  {
   "cell_type": "code",
   "execution_count": null,
   "id": "277a41cc-637f-475d-953c-407f28e6796c",
   "metadata": {},
   "outputs": [],
   "source": [
    "Write a python program to create a function that inputs any number of variable, any number of parameters and output first sum second product and third average "
   ]
  },
  {
   "cell_type": "code",
   "execution_count": null,
   "id": "7c332289-3e0a-4dc0-8506-924966f2aa24",
   "metadata": {},
   "outputs": [],
   "source": [
    "def calculate(*args):\n",
    "    total_sum = sum(args)\n",
    "    total_product = 1\n",
    "    for num in args:\n",
    "        total_product *= num\n",
    "    average = total_sum / len(args) if args else 0\n",
    "    \n",
    "    print(f\"Sum: {total_sum}\")\n",
    "    print(f\"Product: {total_product}\")\n",
    "    print(f\"Average: {average}\")\n",
    "\n",
    "# Example usage\n",
    "calculate(1, 2, 3, 4, 5)"
   ]
  },
  {
   "cell_type": "code",
   "execution_count": null,
   "id": "53523dd8-9d50-445f-9f73-93edc863bec7",
   "metadata": {},
   "outputs": [],
   "source": [
    "Write a python program to create a function that prints a sum of two numbers"
   ]
  },
  {
   "cell_type": "code",
   "execution_count": null,
   "id": "de6a736a-f898-48bb-84f0-81775cdef7b0",
   "metadata": {},
   "outputs": [],
   "source": [
    "def sum_of_two_numbers(num1, num2):\n",
    "    total = num1 + num2\n",
    "    print(f\"The sum of {num1} and {num2} is {total}\")\n",
    "\n",
    "# Example usage\n",
    "sum_of_two_numbers(5, 7)"
   ]
  }
 ],
 "metadata": {
  "kernelspec": {
   "display_name": "Python 3 (ipykernel)",
   "language": "python",
   "name": "python3"
  },
  "language_info": {
   "codemirror_mode": {
    "name": "ipython",
    "version": 3
   },
   "file_extension": ".py",
   "mimetype": "text/x-python",
   "name": "python",
   "nbconvert_exporter": "python",
   "pygments_lexer": "ipython3",
   "version": "3.12.4"
  }
 },
 "nbformat": 4,
 "nbformat_minor": 5
}
